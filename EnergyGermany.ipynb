{
 "cells": [
  {
   "cell_type": "markdown",
   "id": "88c87301",
   "metadata": {},
   "source": [
    "### Dataset\n",
    "\n",
    "**SARAH-3**\n",
    "\n",
    "SARAH-3 ([DOI-Link](https://doi.org/10.5676/EUM_SAF_CM/SARAH/V003)) records different parameters related to surface solar radiation. The dataset is derived from satellite imaging and generated and distributed by the European Organisation of Meteorological Satellites (EUMETSAT) Climate Monitoring Satellite Application Facility. SARAH-3 covers most of the Earth. In our project we focus on the data for Germany. The methodology for SARAH-3 was developed in 2023, it has been applied to data from 1983 to the present at 30-minute resolution. Out of the available parameters we use the solar surface irradiance (SIS) (in W/m^2), because it is the most relevant for estimating the capacity factor of solar photovoltaic cells.\n",
    "\n",
    "\n",
    "\n",
    "**SMARD Data - Energy Germany (Source: German Federal Network Agency):**\n",
    "\n",
    "**Whole Sale Electricity Price**\n",
    "\n",
    "- This CSV file contains the whole sale electricity price time series data for Germany (including Luxembourg) in €/MWh from 01.01.2019 until 31.12.2024 in hourly resolution.\n",
    "\n",
    "**Installed Generation Capacity**\n",
    "- This CSV file contains data concerning the capacity in MW for the different sources of electrical energy installed in Germany: biomass, hydropower, wind offshore, wind onshore, PV, other renewable energies, nuclear, lignite, bituminous coal, natural gas, hydro pumped storage, other conventional energies.\n",
    "- The data is time series data from 01.01.2015 until 01.01.2024 with an hourly resolution.\n",
    "\n",
    "**Actual Production**\n",
    "- This CSV file contains the actual historical electricity production for all different technologies in MWh as time series data from 01.01.2015 until 31.12.2024 in hourly resolution.\n",
    "- Technologies: biomass, hydropower, wind offshore, wind onshore, PV, other renewable energies, nuclear, lignite, bituminous coal, natural gas, hydro pumped storage, other conventional energies\n",
    "\n",
    "**Actual Electricity consumption (load)**\n",
    "- This CSV file contains time series data from 01.01.2015 until 31.12.2024 in hourly resolution related to the actual electricity consumption (load) in Germany in MWh: the load, load including pumped storage, pumped storage, residual load (residual load = load - generation from renewable energies)."
   ]
  },
  {
   "cell_type": "markdown",
   "id": "5bf8ab8f",
   "metadata": {},
   "source": []
  }
 ],
 "metadata": {
  "language_info": {
   "name": "python"
  }
 },
 "nbformat": 4,
 "nbformat_minor": 5
}
