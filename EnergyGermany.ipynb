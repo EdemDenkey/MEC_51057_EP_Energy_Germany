{
 "cells": [
  {
   "cell_type": "markdown",
   "id": "88c87301",
   "metadata": {},
   "source": [
    "### Dataset\n",
    "\n",
    "**SARAH-3**\n",
    "\n",
    "SARAH-3 ([DOI-Link](https://doi.org/10.5676/EUM_SAF_CM/SARAH/V003)) records different parameters related to surface solar radiation. The dataset is derived from satellite imaging and generated and distributed by the European Organisation of Meteorological Satellites (EUMETSAT) Climate Monitoring Satellite Application Facility. SARAH-3 covers most of the Earth. In our project we focus on the data for Germany. The methodology for SARAH-3 was developed in 2023, it has been applied to data from 1983 to the present at 30-minute resolution. Out of the available parameters we use the solar surface irradiance (SIS) (in W/m^2), because it is the most relevant for estimating the capacity factor of solar photovoltaic cells."
   ]
  },
  {
   "cell_type": "markdown",
   "id": "5bf8ab8f",
   "metadata": {},
   "source": []
  }
 ],
 "metadata": {
  "language_info": {
   "name": "python"
  }
 },
 "nbformat": 4,
 "nbformat_minor": 5
}
